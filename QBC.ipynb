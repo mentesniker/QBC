{
 "cells": [
  {
   "cell_type": "code",
   "execution_count": 4,
   "id": "3305f0c0",
   "metadata": {},
   "outputs": [],
   "source": [
    "from qiskit.circuit.library import ZZFeatureMap\n",
    "from qiskit.circuit.library import RealAmplitudes\n",
    "from qiskit.opflow import Z, X\n",
    "from qiskit import Aer\n",
    "import numpy as np\n",
    "from qiskit.aqua.components.optimizers import COBYLA, ADAM, SPSA, SLSQP, POWELL, L_BFGS_B, TNC, AQGD\n",
    "from qiskit_machine_learning.datasets import ad_hoc_data\n",
    "from sklearn.datasets        import make_circles, make_blobs\n",
    "from sklearn.model_selection import train_test_split\n",
    "from matplotlib              import pyplot as plt"
   ]
  },
  {
   "cell_type": "code",
   "execution_count": 31,
   "id": "0008b6a9",
   "metadata": {},
   "outputs": [],
   "source": [
    "class binaryClassifier():\n",
    "    \n",
    "    def __init__(self, depth, dim, featureType=None, codType=None):\n",
    "        self.feature_map = ZZFeatureMap(dim, reps=depth)\n",
    "        self.ansatz = RealAmplitudes(num_qubits=dim, entanglement='linear', reps=depth)\n",
    "        self.optParams = list()\n",
    "    \n",
    "    def get_expectation(self, dataPoint, params):\n",
    "        assigned_feature = self.feature_map.assign_parameters(dataPoint)\n",
    "        assigned_ansatz = self.feature_map.assign_parameters(params)\n",
    "        circuit = assigned_feature.decompose().compose(assigned_ansatz.decompose())\n",
    "        circuit.measure_all()\n",
    "        counts = Aer.get_backend('qasm_simulator').run(circuit, shots=1000).result().get_counts()\n",
    "        expectations = dict()\n",
    "        for count in counts.keys():\n",
    "            parity = sum([int(k) for k in list(count)]) & 1\n",
    "            if(parity not in expectations):\n",
    "                expectations.update({parity:counts[count]})\n",
    "            else:\n",
    "                expectations[parity] = counts[count] + expectations[parity]\n",
    "        if(0 in expectations):\n",
    "            expectations[0] = expectations[0]/1000\n",
    "        if(1 in expectations):\n",
    "            expectations[1] = expectations[1]/1000\n",
    "        return expectations\n",
    "\n",
    "    def get_cost_mse(self,listExpectation, expected_classes):\n",
    "        cost = 0\n",
    "        i = 0\n",
    "        for c in expected_classes:\n",
    "            cost += (1 - listExpectation[i][c])**2\n",
    "            i += 1\n",
    "        return (1/len(expected_classes)) * cost\n",
    "        \n",
    "    def objective_function(self, dataPoints, expected_classes, params):\n",
    "        expects = list()\n",
    "        for point in dataPoints:\n",
    "            expects.append(self.get_expectation(point, params))\n",
    "        return self.get_cost_mse(expects, expected_classes)\n",
    "    \n",
    "    def train(self, X, Y, init_params):\n",
    "        optimizer = ADAM(maxiter=100, )\n",
    "        objective_function = lambda params: self.objective_function(X, Y, params)\n",
    "        opt_params, value, _ = optimizer.optimize(len(init_params), objective_function, initial_point=init_params)\n",
    "        self.optParams = opt_params\n",
    "        return opt_params\n",
    "    \n",
    "    def predict(self, point):\n",
    "        expect = self.get_expectation(point, self.optParams)\n",
    "        if(0 in expect and expect[0] > 0.5):\n",
    "            return 0\n",
    "        else:\n",
    "            return 1\n",
    "\n",
    "#binary.get_expectation([1,2],[0,1])\n",
    "#binary.get_cost_mse([dict({0:0.2,1:0.8}),dict({0:0.3,1:0.7})],[1,0])\n",
    "#binary.objective_function(Xn,yn,[1,2])"
   ]
  },
  {
   "cell_type": "markdown",
   "id": "6c6556c0",
   "metadata": {},
   "source": [
    "## Dataset"
   ]
  },
  {
   "cell_type": "code",
   "execution_count": 21,
   "id": "7126d068",
   "metadata": {},
   "outputs": [],
   "source": [
    "X,y = make_blobs(centers=2, n_features=2, n_samples=20, center_box=[(-4,3),(5,-1)],random_state=213)\n",
    "Xn, Xt, yn, yt = train_test_split(X,y)"
   ]
  },
  {
   "cell_type": "code",
   "execution_count": 22,
   "id": "3a63254f",
   "metadata": {},
   "outputs": [
    {
     "data": {
      "text/plain": [
       "<matplotlib.collections.PathCollection at 0x7f3e8077a430>"
      ]
     },
     "execution_count": 22,
     "metadata": {},
     "output_type": "execute_result"
    },
    {
     "data": {
      "image/png": "[encoded data removed]",
      "text/plain": [
       "<Figure size 432x288 with 1 Axes>"
      ]
     },
     "metadata": {
      "needs_background": "light"
     },
     "output_type": "display_data"
    }
   ],
   "source": [
    "plt.scatter(X[:,0],X[:,1],c=y)"
   ]
  },
  {
   "cell_type": "code",
   "execution_count": 32,
   "id": "750a2643",
   "metadata": {},
   "outputs": [],
   "source": [
    "binary = binaryClassifier(depth=1,dim=2)"
   ]
  },
  {
   "cell_type": "code",
   "execution_count": 33,
   "id": "0510bf84",
   "metadata": {},
   "outputs": [
    {
     "data": {
      "text/plain": [
       "array([0.99952882, 2.00231138])"
      ]
     },
     "execution_count": 33,
     "metadata": {},
     "output_type": "execute_result"
    }
   ],
   "source": [
    "binary.train(Xn, yn, [1,2])"
   ]
  },
  {
   "cell_type": "code",
   "execution_count": 36,
   "id": "647f06a6",
   "metadata": {},
   "outputs": [
    {
     "data": {
      "text/plain": [
       "0"
      ]
     },
     "execution_count": 36,
     "metadata": {},
     "output_type": "execute_result"
    }
   ],
   "source": [
    "binary.predict([4,1.5])"
   ]
  },
  {
   "cell_type": "code",
   "execution_count": null,
   "id": "54b77eba",
   "metadata": {},
   "outputs": [],
   "source": []
  },
  {
   "cell_type": "code",
   "execution_count": null,
   "id": "e239e309",
   "metadata": {},
   "outputs": [],
   "source": []
  },
  {
   "cell_type": "code",
   "execution_count": null,
   "id": "2f5ab8b2",
   "metadata": {},
   "outputs": [],
   "source": []
  },
  {
   "cell_type": "code",
   "execution_count": null,
   "id": "6a5f5c07",
   "metadata": {},
   "outputs": [],
   "source": []
  },
  {
   "cell_type": "code",
   "execution_count": null,
   "id": "2846d568",
   "metadata": {},
   "outputs": [],
   "source": []
  },
  {
   "cell_type": "code",
   "execution_count": null,
   "id": "c8e78afa",
   "metadata": {},
   "outputs": [],
   "source": []
  },
  {
   "cell_type": "code",
   "execution_count": null,
   "id": "00def27b",
   "metadata": {},
   "outputs": [],
   "source": []
  },
  {
   "cell_type": "code",
   "execution_count": null,
   "id": "3adb1916",
   "metadata": {},
   "outputs": [],
   "source": []
  },
  {
   "cell_type": "code",
   "execution_count": null,
   "id": "470551d9",
   "metadata": {},
   "outputs": [],
   "source": []
  },
  {
   "cell_type": "code",
   "execution_count": null,
   "id": "9aa994ec",
   "metadata": {},
   "outputs": [],
   "source": []
  },
  {
   "cell_type": "code",
   "execution_count": null,
   "id": "f395eab9",
   "metadata": {},
   "outputs": [],
   "source": []
  },
  {
   "cell_type": "code",
   "execution_count": null,
   "id": "c2ab2a4d",
   "metadata": {},
   "outputs": [],
   "source": []
  }
 ],
 "metadata": {
  "kernelspec": {
   "display_name": "Python 3",
   "language": "python",
   "name": "python3"
  },
  "language_info": {
   "codemirror_mode": {
    "name": "ipython",
    "version": 3
   },
   "file_extension": ".py",
   "mimetype": "text/x-python",
   "name": "python",
   "nbconvert_exporter": "python",
   "pygments_lexer": "ipython3",
   "version": "3.8.10"
  }
 },
 "nbformat": 4,
 "nbformat_minor": 5
}
